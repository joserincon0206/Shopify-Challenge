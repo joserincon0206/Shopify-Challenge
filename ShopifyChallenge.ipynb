{
 "cells": [
  {
   "cell_type": "markdown",
   "id": "be80f34c",
   "metadata": {},
   "source": [
    "# Shopify Challenge 2021\n",
    "## Data Science Internship \n",
    "## Jose Rincon"
   ]
  },
  {
   "cell_type": "code",
   "execution_count": 1,
   "id": "9ad8ff72",
   "metadata": {},
   "outputs": [],
   "source": [
    "import pandas as pd\n",
    "import numpy as np\n",
    "import matplotlib.pyplot as plt"
   ]
  },
  {
   "cell_type": "markdown",
   "id": "993cc3e6",
   "metadata": {},
   "source": [
    "## Question 1:\n",
    "#### On Shopify, we have exactly 100 sneaker shops, and each of these shops sells only one model of shoe. We want to do some analysis of the average order value (AOV). When we look at orders data over a 30 day window, we naively calculate an AOV of  3145.13. Given that we know these shops are selling sneakers, a relatively affordable item, something seems wrong with our analysis. \n",
    "\n",
    "### a. Think about what could be going wrong with our calculation. Think about a better way to evaluate this data. \n",
    "### Solution a\n",
    "#### Read data using pandas"
   ]
  },
  {
   "cell_type": "code",
   "execution_count": 2,
   "id": "5de7261f",
   "metadata": {},
   "outputs": [],
   "source": [
    "my_data = pd.read_excel(\"/home/jose/Documents/Professional Development/shopify_challenge/2019 Winter Data Science Intern Challenge Data Set.xlsx\", engine = 'openpyxl')\n"
   ]
  },
  {
   "cell_type": "markdown",
   "id": "95ca19e9",
   "metadata": {},
   "source": [
    "#### Perform 30 day window average using the original computation "
   ]
  },
  {
   "cell_type": "code",
   "execution_count": 3,
   "id": "bdcd8bf1",
   "metadata": {},
   "outputs": [],
   "source": [
    "order_values = my_data['order_amount'].to_numpy()\n",
    "store_ids = my_data['shop_id'].to_numpy()\n",
    "average_order_value = np.mean(order_values)"
   ]
  },
  {
   "cell_type": "code",
   "execution_count": 4,
   "id": "36a4887f",
   "metadata": {},
   "outputs": [
    {
     "name": "stdout",
     "output_type": "stream",
     "text": [
      "3145.128\n"
     ]
    }
   ],
   "source": [
    "print(average_order_value)"
   ]
  },
  {
   "cell_type": "markdown",
   "id": "a17fece4",
   "metadata": {},
   "source": [
    "#### Find any possible outliers in the dataset.  We do this by finding the average and standard deviation of number of items in an order. Orders that fall within three standard deviations could be deemed common for the stores. Orders with very large number of shoes could be unusual for the stores. Those outliers could be ignored in our calculation.  "
   ]
  },
  {
   "cell_type": "code",
   "execution_count": 5,
   "id": "90e8f9c4",
   "metadata": {},
   "outputs": [],
   "source": [
    "total_items = my_data['total_items'].to_numpy()"
   ]
  },
  {
   "cell_type": "markdown",
   "id": "7bb51b1c",
   "metadata": {},
   "source": [
    "#### Compute mean and standard deviation of total_items per order"
   ]
  },
  {
   "cell_type": "code",
   "execution_count": 6,
   "id": "d7f1ceef",
   "metadata": {},
   "outputs": [],
   "source": [
    "mean = np.mean(total_items)\n",
    "std = np.std(total_items)\n",
    "median = np.median(total_items)"
   ]
  },
  {
   "cell_type": "code",
   "execution_count": 7,
   "id": "d8cd31ab",
   "metadata": {},
   "outputs": [
    {
     "name": "stdout",
     "output_type": "stream",
     "text": [
      "8.7872 116.3086871912842 2.0\n"
     ]
    }
   ],
   "source": [
    "print(mean, std, median)"
   ]
  },
  {
   "cell_type": "markdown",
   "id": "8d611bc5",
   "metadata": {},
   "source": [
    "#### Find outliers in store orders "
   ]
  },
  {
   "cell_type": "code",
   "execution_count": 8,
   "id": "848f7c8c",
   "metadata": {},
   "outputs": [
    {
     "name": "stdout",
     "output_type": "stream",
     "text": [
      "[2000 2000 2000 2000 2000 2000 2000 2000 2000 2000 2000 2000 2000 2000\n",
      " 2000 2000 2000]\n",
      "[42 42 42 42 42 42 42 42 42 42 42 42 42 42 42 42 42]\n"
     ]
    }
   ],
   "source": [
    "# Use 3 standard deviations to find ourliers\n",
    "cut_off = 3 * std \n",
    "# find lower boundary of our good data\n",
    "lower = mean - cut_off \n",
    "# find upper boundary of our good data\n",
    "upper = mean + cut_off\n",
    "# find the indices of outliers\n",
    "indices_outliers =  (total_items < lower) + (total_items > upper)\n",
    "# find the number of items in outliers\n",
    "outliers_total_items = total_items[indices_outliers]\n",
    "print(outliers_total_items)\n",
    "# find the store ids with the outliers\n",
    "outliers_store_ids = store_ids[indices_outliers]\n",
    "print(outliers_store_ids)\n"
   ]
  },
  {
   "cell_type": "markdown",
   "id": "98aa7c13",
   "metadata": {},
   "source": [
    "#### They are orders with 2000 items sold by store 42. \n",
    "#### Let's now remove the outliers from our data"
   ]
  },
  {
   "cell_type": "code",
   "execution_count": 9,
   "id": "9ef7a5f6",
   "metadata": {},
   "outputs": [
    {
     "name": "stdout",
     "output_type": "stream",
     "text": [
      "max_total_items 8\n",
      "min_total_items 1\n",
      "average_total_items 1.9939795304033714\n",
      "std_total_items 0.9830817903534801\n"
     ]
    }
   ],
   "source": [
    "# get new_total_items \n",
    "new_total_items = total_items[~indices_outliers]\n",
    "# get new_order_values \n",
    "new_order_values = order_values[~indices_outliers]\n",
    "# get max, min, mean, std of  new_total_items \n",
    "max_total_items = np.max(new_total_items)\n",
    "min_total_items = np.min(new_total_items)\n",
    "average_total_items = np.average(new_total_items)\n",
    "std_total_items = np.std(new_total_items)\n",
    "print('max_total_items', max_total_items)\n",
    "print('min_total_items', min_total_items)\n",
    "print('average_total_items', average_total_items)\n",
    "print('std_total_items', std_total_items)\n",
    "\n"
   ]
  },
  {
   "cell_type": "markdown",
   "id": "f33be382",
   "metadata": {},
   "source": [
    "#### There are 17 outliers from our 5000 order data set. I am not sure why store 42 has those 2000 item orders made by their customer 607 but these type of orders are not usual for a retail shoe store. Moreover, there are also outliers in store  78 where shoes are sold for a unit price of 25725.  These outliers are definetely affecting the Average Order Value (AOV). "
   ]
  },
  {
   "cell_type": "markdown",
   "id": "a2529b5c",
   "metadata": {},
   "source": [
    "### b. What metric would you report for this dataset?\n",
    "### Solution b"
   ]
  },
  {
   "cell_type": "markdown",
   "id": "a239c1fc",
   "metadata": {},
   "source": [
    "#### Given that this data set has a few very large outliers, the mean is skewed by these few samples. We could use the median as better value of central tendency.  "
   ]
  },
  {
   "cell_type": "markdown",
   "id": "615e9a84",
   "metadata": {},
   "source": [
    "### c. What is the value?\n",
    "### Solution: The Median Order Value is\n"
   ]
  },
  {
   "cell_type": "code",
   "execution_count": 13,
   "id": "b7c789dc",
   "metadata": {},
   "outputs": [],
   "source": [
    "median_order_value = np.median(order_values)"
   ]
  },
  {
   "cell_type": "code",
   "execution_count": 14,
   "id": "c5c502e2",
   "metadata": {},
   "outputs": [
    {
     "name": "stdout",
     "output_type": "stream",
     "text": [
      "The Median Order Value (MOV) is:  284.0\n"
     ]
    }
   ],
   "source": [
    "print(\"The Median Order Value (MOV) is: \", median_order_value)"
   ]
  },
  {
   "cell_type": "markdown",
   "id": "ae970055",
   "metadata": {},
   "source": [
    "## Question 2:\n",
    "#### For this question you’ll need to use SQL. Follow this link to access the data set required for the challenge. Please use queries to answer the following questions. Paste your queries along with your final numerical answers below"
   ]
  },
  {
   "cell_type": "markdown",
   "id": "c280bbc9",
   "metadata": {},
   "source": [
    "### a. How many orders were shipped by Speedy Express in total?\n"
   ]
  },
  {
   "cell_type": "code",
   "execution_count": 20,
   "id": "fdec4525",
   "metadata": {},
   "outputs": [
    {
     "data": {
      "text/plain": [
       "'\\nSELECT COUNT(tempOrders.ShipperID)\\nFROM Orders AS tempOrders\\nWHERE (SELECT ShipperID \\n    FROM Shippers AS tempShippers\\n    WHERE tempShippers.ShipperName == \"Speedy Express\") == tempOrders.ShipperID'"
      ]
     },
     "execution_count": 20,
     "metadata": {},
     "output_type": "execute_result"
    }
   ],
   "source": [
    "'''\n",
    "SELECT COUNT(tempOrders.ShipperID)\n",
    "FROM Orders AS tempOrders\n",
    "WHERE (SELECT ShipperID \n",
    "    FROM Shippers AS tempShippers\n",
    "    WHERE tempShippers.ShipperName == \"Speedy Express\") == tempOrders.ShipperID'''"
   ]
  },
  {
   "cell_type": "markdown",
   "id": "c0d576b6",
   "metadata": {},
   "source": [
    "### Solution a: The number of orders shipped by Speedy Express were 54"
   ]
  },
  {
   "cell_type": "markdown",
   "id": "e156f783",
   "metadata": {},
   "source": [
    "### b. What is the last name of the employee with the most orders?\n"
   ]
  },
  {
   "cell_type": "code",
   "execution_count": 23,
   "id": "b1492736",
   "metadata": {},
   "outputs": [
    {
     "data": {
      "text/plain": [
       "'\\nSELECT Employees.LastName\\nFROM Employees\\nLEFT JOIN Orders\\nON Orders.EmployeeID = Employees.EmployeeID\\nGROUP BY Orders.EmployeeID\\nORDER BY COUNT(Orders.EmployeeID) DESC\\nLIMIT 1;'"
      ]
     },
     "execution_count": 23,
     "metadata": {},
     "output_type": "execute_result"
    }
   ],
   "source": [
    "'''\n",
    "SELECT Employees.LastName\n",
    "FROM Employees\n",
    "LEFT JOIN Orders\n",
    "ON Orders.EmployeeID = Employees.EmployeeID\n",
    "GROUP BY Orders.EmployeeID\n",
    "ORDER BY COUNT(Orders.EmployeeID) DESC\n",
    "LIMIT 1;'''"
   ]
  },
  {
   "cell_type": "markdown",
   "id": "fbc1372e",
   "metadata": {},
   "source": [
    "### Solution b: The employee with most orders is Peacock"
   ]
  },
  {
   "cell_type": "markdown",
   "id": "ed6ff5b9",
   "metadata": {},
   "source": [
    "### c. What product was ordered the most by customers in Germany?\n",
    "\n"
   ]
  },
  {
   "cell_type": "code",
   "execution_count": 24,
   "id": "5a02a565",
   "metadata": {},
   "outputs": [
    {
     "data": {
      "text/plain": [
       "'SELECT \\nProducts.ProductName, SUM(OrderDetails.Quantity) AS Total_orders, Customers.Country\\nFROM Products\\nJOIN OrderDetails ON OrderDetails.ProductID = Products.ProductID\\nJOIN Orders ON Orders.OrderID = OrderDetails.OrderID\\nJOIN Customers ON Customers.CustomerID = Orders.CustomerID\\nWHERE Customers.Country = \"Germany\"\\nGROUP BY Products.ProductName\\nORDER BY Total_orders DESC\\nLIMIT 1;'"
      ]
     },
     "execution_count": 24,
     "metadata": {},
     "output_type": "execute_result"
    }
   ],
   "source": [
    "'''SELECT \n",
    "Products.ProductName, SUM(OrderDetails.Quantity) AS Total_orders, Customers.Country\n",
    "FROM Products\n",
    "JOIN OrderDetails ON OrderDetails.ProductID = Products.ProductID\n",
    "JOIN Orders ON Orders.OrderID = OrderDetails.OrderID\n",
    "JOIN Customers ON Customers.CustomerID = Orders.CustomerID\n",
    "WHERE Customers.Country = \"Germany\"\n",
    "GROUP BY Products.ProductName\n",
    "ORDER BY Total_orders DESC\n",
    "LIMIT 1;'''"
   ]
  },
  {
   "cell_type": "markdown",
   "id": "5d68bf48",
   "metadata": {},
   "source": [
    "### Solution c. Boston Crab Meat was the most ordered product in Germany"
   ]
  },
  {
   "cell_type": "code",
   "execution_count": null,
   "id": "ac628836",
   "metadata": {},
   "outputs": [],
   "source": []
  },
  {
   "cell_type": "code",
   "execution_count": null,
   "id": "8f0de1fa",
   "metadata": {},
   "outputs": [],
   "source": []
  }
 ],
 "metadata": {
  "kernelspec": {
   "display_name": "Python 3",
   "language": "python",
   "name": "python3"
  },
  "language_info": {
   "codemirror_mode": {
    "name": "ipython",
    "version": 3
   },
   "file_extension": ".py",
   "mimetype": "text/x-python",
   "name": "python",
   "nbconvert_exporter": "python",
   "pygments_lexer": "ipython3",
   "version": "3.6.9"
  }
 },
 "nbformat": 4,
 "nbformat_minor": 5
}
